{
 "cells": [
  {
   "cell_type": "markdown",
   "metadata": {},
   "source": [
    "# Homework 1\n",
    "<strong>\n",
    "Pattern recognition </br></br>\n",
    "Teacher: Dr. Yazdian </br></br>\n",
    "Amirmohammad Taghizadehgan 40104244</br></br>\n",
    "امیرمحمد تقی‌زاده‌گان ۴۰۱۴۰۴۲۴۴\n",
    "</strong>"
   ]
  },
  {
   "cell_type": "markdown",
   "metadata": {},
   "source": [
    "# importing libraries"
   ]
  },
  {
   "cell_type": "code",
   "execution_count": 1,
   "metadata": {},
   "outputs": [],
   "source": [
    "import numpy as np\n",
    "import pandas as pd"
   ]
  },
  {
   "cell_type": "markdown",
   "metadata": {},
   "source": [
    "# Exercise 1"
   ]
  },
  {
   "cell_type": "markdown",
   "metadata": {},
   "source": [
    "## a)"
   ]
  },
  {
   "cell_type": "code",
   "execution_count": 2,
   "metadata": {},
   "outputs": [],
   "source": [
    "\n",
    "def bayes_decision_rule(cost_matrix, likelihood, prior):\n",
    "\n",
    "    # r1 = cost11 * p(c1) * p(x | c1) + cost12 * p(c2) * p(x | c2) + ...\n",
    "    # lecture3-slide 18\n",
    "    expected_losses = (prior * likelihood) @ cost_matrix\n",
    "    \n",
    "    # Find the class with the minimum expected loss\n",
    "    min_expected_loss_class = np.argmin(expected_losses, axis = 1)\n",
    "    \n",
    "    return min_expected_loss_class\n"
   ]
  },
  {
   "cell_type": "markdown",
   "metadata": {},
   "source": [
    "## b)\n",
    "\n",
    "MAP(Maximum a posteriori) => when we have 0 cost for guessing the correct class, and (prior * likelihood) cost when we guess the wrong class. This way the maximum posterior(minimum risk with such parameters) will be assigned.\n",
    "So the $\\lambda$ for a 4 class problem will look like:\n",
    "$$\n",
    "\\begin{pmatrix}\n",
    "0 & 1 & 1 & 1 \\\\\n",
    "1 & 0 & 1 & 1 \\\\\n",
    "1 & 1 & 0 & 1 \\\\\n",
    "1 & 1 & 1 & 0 \\\\\n",
    "\\end{pmatrix}\n",
    "$$\n",
    "\n",
    "\n",
    "ML(Maximum Likelihood) => we want to ignore our priors, so we set them equal to ignore their effect. so the $\\lambda$ will be the same as above but the priors should be the same."
   ]
  },
  {
   "cell_type": "markdown",
   "metadata": {},
   "source": [
    "# Exercise 2"
   ]
  },
  {
   "cell_type": "markdown",
   "metadata": {},
   "source": [
    "## loading the dataset"
   ]
  },
  {
   "cell_type": "code",
   "execution_count": 3,
   "metadata": {},
   "outputs": [
    {
     "data": {
      "text/html": [
       "<div>\n",
       "<style scoped>\n",
       "    .dataframe tbody tr th:only-of-type {\n",
       "        vertical-align: middle;\n",
       "    }\n",
       "\n",
       "    .dataframe tbody tr th {\n",
       "        vertical-align: top;\n",
       "    }\n",
       "\n",
       "    .dataframe thead th {\n",
       "        text-align: right;\n",
       "    }\n",
       "</style>\n",
       "<table border=\"1\" class=\"dataframe\">\n",
       "  <thead>\n",
       "    <tr style=\"text-align: right;\">\n",
       "      <th></th>\n",
       "      <th>age</th>\n",
       "      <th>year</th>\n",
       "      <th>nodes</th>\n",
       "      <th>survival_status</th>\n",
       "    </tr>\n",
       "  </thead>\n",
       "  <tbody>\n",
       "    <tr>\n",
       "      <th>0</th>\n",
       "      <td>30</td>\n",
       "      <td>64</td>\n",
       "      <td>1</td>\n",
       "      <td>1</td>\n",
       "    </tr>\n",
       "    <tr>\n",
       "      <th>1</th>\n",
       "      <td>30</td>\n",
       "      <td>62</td>\n",
       "      <td>3</td>\n",
       "      <td>1</td>\n",
       "    </tr>\n",
       "    <tr>\n",
       "      <th>2</th>\n",
       "      <td>30</td>\n",
       "      <td>65</td>\n",
       "      <td>0</td>\n",
       "      <td>1</td>\n",
       "    </tr>\n",
       "    <tr>\n",
       "      <th>3</th>\n",
       "      <td>31</td>\n",
       "      <td>59</td>\n",
       "      <td>2</td>\n",
       "      <td>1</td>\n",
       "    </tr>\n",
       "    <tr>\n",
       "      <th>4</th>\n",
       "      <td>31</td>\n",
       "      <td>65</td>\n",
       "      <td>4</td>\n",
       "      <td>1</td>\n",
       "    </tr>\n",
       "    <tr>\n",
       "      <th>...</th>\n",
       "      <td>...</td>\n",
       "      <td>...</td>\n",
       "      <td>...</td>\n",
       "      <td>...</td>\n",
       "    </tr>\n",
       "    <tr>\n",
       "      <th>301</th>\n",
       "      <td>75</td>\n",
       "      <td>62</td>\n",
       "      <td>1</td>\n",
       "      <td>1</td>\n",
       "    </tr>\n",
       "    <tr>\n",
       "      <th>302</th>\n",
       "      <td>76</td>\n",
       "      <td>67</td>\n",
       "      <td>0</td>\n",
       "      <td>1</td>\n",
       "    </tr>\n",
       "    <tr>\n",
       "      <th>303</th>\n",
       "      <td>77</td>\n",
       "      <td>65</td>\n",
       "      <td>3</td>\n",
       "      <td>1</td>\n",
       "    </tr>\n",
       "    <tr>\n",
       "      <th>304</th>\n",
       "      <td>78</td>\n",
       "      <td>65</td>\n",
       "      <td>1</td>\n",
       "      <td>2</td>\n",
       "    </tr>\n",
       "    <tr>\n",
       "      <th>305</th>\n",
       "      <td>83</td>\n",
       "      <td>58</td>\n",
       "      <td>2</td>\n",
       "      <td>2</td>\n",
       "    </tr>\n",
       "  </tbody>\n",
       "</table>\n",
       "<p>306 rows × 4 columns</p>\n",
       "</div>"
      ],
      "text/plain": [
       "     age  year  nodes  survival_status\n",
       "0     30    64      1                1\n",
       "1     30    62      3                1\n",
       "2     30    65      0                1\n",
       "3     31    59      2                1\n",
       "4     31    65      4                1\n",
       "..   ...   ...    ...              ...\n",
       "301   75    62      1                1\n",
       "302   76    67      0                1\n",
       "303   77    65      3                1\n",
       "304   78    65      1                2\n",
       "305   83    58      2                2\n",
       "\n",
       "[306 rows x 4 columns]"
      ]
     },
     "execution_count": 3,
     "metadata": {},
     "output_type": "execute_result"
    }
   ],
   "source": [
    "column_names = ['age', 'year', 'nodes', 'survival_status']\n",
    "haberman_df = pd.read_csv('Datasets/Binary/haberman/haberman.data', names=column_names)\n",
    "haberman_df"
   ]
  },
  {
   "cell_type": "code",
   "execution_count": 4,
   "metadata": {},
   "outputs": [
    {
     "data": {
      "text/plain": [
       "array([1, 2])"
      ]
     },
     "execution_count": 4,
     "metadata": {},
     "output_type": "execute_result"
    }
   ],
   "source": [
    "classes = haberman_df['survival_status'].unique()\n",
    "classes"
   ]
  },
  {
   "cell_type": "code",
   "execution_count": 5,
   "metadata": {},
   "outputs": [],
   "source": [
    "def prior(y):\n",
    "    classes = np.unique(y)\n",
    "    result = np.zeros_like(classes, dtype= np.float64) # the size of prior = 1 * len(classes)\n",
    "    for i in range(len(classes)):\n",
    "        result[i] = (y == classes[i]).sum(axis=None)/len(y) # each class count / total_count\n",
    "    return result"
   ]
  },
  {
   "cell_type": "code",
   "execution_count": 6,
   "metadata": {},
   "outputs": [],
   "source": [
    "def likelihood(x, y):\n",
    "    # assuming gaussian distribution for all the features.\n",
    "    x = np.array(x)\n",
    "    y = np.array(y)\n",
    "    classes = np.unique(y)\n",
    "    result = np.zeros((x.shape[0],len(classes)), dtype= np.float64)\n",
    "    for i in range(len(classes)):\n",
    "        class_id = y == classes[i] # given class[i]\n",
    "        mu = np.mean(x[class_id, :], axis = 0) # mean\n",
    "        cov = np.cov(x[class_id].T) # cov for multi class gaussian\n",
    "        for j in np.arange(x.shape[0]):\n",
    "            # Gaussian formula from the guide slides:\n",
    "            result[j, i] = (1/((2 * np.pi) ** (len(classes)/2) * np.linalg.det(cov) ** .5)) *\\\n",
    "                np.exp(-.5 * (x[j, :] - mu).T @ np.linalg.inv(cov) @ (x[j, :] - mu))\n",
    "    return result"
   ]
  },
  {
   "cell_type": "code",
   "execution_count": 7,
   "metadata": {},
   "outputs": [],
   "source": [
    "# it calculates likelihood exactly like the above piece of code, but for new samples.\n",
    "def likelihood_newsamples(newsamples ,x, y):\n",
    "    newsamples = np.array(newsamples)\n",
    "    x = np.array(x)\n",
    "    y = np.array(y)\n",
    "    classes = np.unique(y)\n",
    "    result = np.zeros((newsamples.shape[0],len(classes)), dtype= np.float64)\n",
    "    for i in range(len(classes)):\n",
    "        class_id = y == classes[i]\n",
    "        mu = np.mean(x[class_id, :], axis = 0)\n",
    "        cov = np.cov(x[class_id].T)\n",
    "        for j in np.arange(newsamples.shape[0]):\n",
    "            result[j, i] = (1/((2 * np.pi) ** (len(classes)/2) * np.linalg.det(cov) ** .5)) *\\\n",
    "                np.exp(-.5 * (newsamples[j, :] - mu).T @ np.linalg.inv(cov) @ (newsamples[j, :] - mu))\n",
    "    return result"
   ]
  },
  {
   "cell_type": "code",
   "execution_count": 8,
   "metadata": {},
   "outputs": [],
   "source": [
    "# creates confusion matrix.\n",
    "def confusionBuild(predict, y):\n",
    "    labels = np.unique(y)\n",
    "    mat = np.zeros((labels.shape[0], labels.shape[0]))\n",
    "    for i in range(len(labels)):\n",
    "        for j in range(len(labels)):\n",
    "            mat[i, j] = sum(np.logical_and(y == labels[i], predict == labels[j]))\n",
    "    return mat\n",
    "\n",
    "# gets accuracy out of confusion matrix.\n",
    "def conf2acc(confusionMat):  \n",
    "    return np.sum(confusionMat * np.eye(confusionMat.shape[0]), axis = None)/np.sum(confusionMat, axis = None)"
   ]
  },
  {
   "cell_type": "markdown",
   "metadata": {},
   "source": [
    "## bayes risk classifier for binary problem"
   ]
  },
  {
   "cell_type": "code",
   "execution_count": 9,
   "metadata": {},
   "outputs": [
    {
     "name": "stdout",
     "output_type": "stream",
     "text": [
      "[[216.   9.]\n",
      " [ 68.  13.]]\n",
      "Averaged accuracy is:  0.7484\n",
      "Class1 accuracy is: 0.9600\n",
      "Class2 accuracy is: 0.1605\n"
     ]
    }
   ],
   "source": [
    "cost_matrix = np.array([[0,2],[1,0]])\n",
    "likelihood_p = likelihood(haberman_df.iloc[:, :-1], haberman_df.iloc[:, -1]) \n",
    "prior_p = prior(haberman_df.iloc[:, -1])\n",
    "result = classes[bayes_decision_rule(cost_matrix,likelihood_p,prior_p)]\n",
    "confusion_m1 = confusionBuild(result, haberman_df.iloc[:, -1].to_numpy())\n",
    "print(confusion_m1)\n",
    "print(f'Averaged accuracy is: {conf2acc(confusion_m1): .4f}')\n",
    "for i in np.arange(classes.shape[0]):\n",
    "    acc = confusion_m1[i, i] / confusion_m1[i, :].sum()\n",
    "    print(f'Class{classes[i]} accuracy is: {acc:.4f}')"
   ]
  },
  {
   "cell_type": "markdown",
   "metadata": {},
   "source": [
    "## MAP classifier for binary problem"
   ]
  },
  {
   "cell_type": "code",
   "execution_count": 10,
   "metadata": {},
   "outputs": [
    {
     "name": "stdout",
     "output_type": "stream",
     "text": [
      "[[215.  10.]\n",
      " [ 63.  18.]]\n",
      "Averaged accuracy is:  0.7614\n",
      "Class1 accuracy is: 0.9556\n",
      "Class2 accuracy is: 0.2222\n"
     ]
    }
   ],
   "source": [
    "cost_matrix = [[0,1],[1,0]] # equal costs\n",
    "likelihood_p = likelihood(haberman_df.iloc[:, :-1], haberman_df.iloc[:, -1]) \n",
    "prior_p = prior(haberman_df.iloc[:, -1])\n",
    "result = classes[bayes_decision_rule(cost_matrix,likelihood_p,prior_p)]\n",
    "confusion_m2 = confusionBuild(result, haberman_df.iloc[:, -1].to_numpy())\n",
    "print(confusion_m2)\n",
    "print(f'Averaged accuracy is: {conf2acc(confusion_m2): .4f}')\n",
    "for i in np.arange(classes.shape[0]):\n",
    "    acc = confusion_m2[i, i] / confusion_m2[i, :].sum()\n",
    "    print(f'Class{classes[i]} accuracy is: {acc:.4f}')"
   ]
  },
  {
   "cell_type": "markdown",
   "metadata": {},
   "source": [
    "# ML classifier for binary problem"
   ]
  },
  {
   "cell_type": "code",
   "execution_count": 11,
   "metadata": {},
   "outputs": [
    {
     "name": "stdout",
     "output_type": "stream",
     "text": [
      "[[195.  30.]\n",
      " [ 48.  33.]]\n",
      "Averaged accuracy is:  0.7451\n",
      "Class1 accuracy is: 0.8667\n",
      "Class2 accuracy is: 0.4074\n"
     ]
    }
   ],
   "source": [
    "cost_matrix = [[0,1],[1,0]] # equal costs\n",
    "likelihood_p = likelihood(haberman_df.iloc[:, :-1], haberman_df.iloc[:, -1]) \n",
    "prior_p = np.ones_like(classes) / len(classes) # equal priors\n",
    "result = classes[bayes_decision_rule(cost_matrix,likelihood_p,prior_p)]\n",
    "confusion_m3 = confusionBuild(result, haberman_df.iloc[:, -1].to_numpy())\n",
    "print(confusion_m3)\n",
    "print(f'Averaged accuracy is: {conf2acc(confusion_m3): .4f}')\n",
    "for i in np.arange(classes.shape[0]):\n",
    "    acc = confusion_m3[i, i] / confusion_m3[i, :].sum()\n",
    "    print(f'Class{classes[i]} accuracy is: {acc:.4f}')"
   ]
  },
  {
   "cell_type": "code",
   "execution_count": 12,
   "metadata": {},
   "outputs": [
    {
     "data": {
      "image/png": "[encoded data removed]",
      "text/plain": [
       "<Figure size 1152x432 with 2 Axes>"
      ]
     },
     "metadata": {
      "needs_background": "light"
     },
     "output_type": "display_data"
    }
   ],
   "source": [
    "import matplotlib.pyplot as plt\n",
    "\n",
    "# accuracy mat:\n",
    "# [[acc_class1_bayes, acc_class1_map, acc_class1_ml],\n",
    "#  [acc_class2_bayes, acc_class2_map, acc_class2_ml]]\n",
    "acc = np.zeros((len(classes), 3), 'float')\n",
    "for j in range(3):\n",
    "    temp = eval(f'confusion_m{j+1}')\n",
    "    for i in range(classes.size):\n",
    "        acc[i, j] = temp[i, i] / temp[i, :].sum()\n",
    "\n",
    "\n",
    "ave_acc = np.zeros((1, 3), 'float')\n",
    "for j in range(3):\n",
    "    temp = eval(f'confusion_m{j+1}')\n",
    "    ave_acc[0, j] = conf2acc(temp)\n",
    "\n",
    "x = ['Bayes', 'MAP', 'ML']\n",
    "plt.figure(figsize=(16, 6))\n",
    "plt.subplot(121)\n",
    "for i in range(classes.size):\n",
    "    plt.bar(x, acc[i, :], bottom = acc[:i, :].sum(0), label = f'class {i}')\n",
    "plt.ylabel('accuracy')\n",
    "plt.legend()\n",
    "plt.title('stacked accuracy')\n",
    "\n",
    "plt.subplot(122)\n",
    "\n",
    "for i in range(classes.size):\n",
    "    plt.bar(x, ave_acc[0, :] * acc[i, :]/acc.sum(0), bottom=(ave_acc[0, :] * acc[:i, :]/acc.sum(0)).sum(0), label = f'class {i}')\n",
    "plt.xlabel('models')\n",
    "plt.ylabel('accuracy')\n",
    "plt.legend()\n",
    "plt.title('accuracy')\n",
    "\n",
    "plt.show()"
   ]
  },
  {
   "cell_type": "markdown",
   "metadata": {},
   "source": [
    "## c)\n",
    "\n",
    "since our priors didn't preserve reallity, ML predicts better for each class. on the other hand, regarding to bayes risk classifier, we are raising sensitivity. because the cost of choosing class2 is basically more than class1."
   ]
  },
  {
   "cell_type": "markdown",
   "metadata": {},
   "source": [
    "# Excersise 3"
   ]
  },
  {
   "cell_type": "code",
   "execution_count": 13,
   "metadata": {},
   "outputs": [
    {
     "data": {
      "text/html": [
       "<div>\n",
       "<style scoped>\n",
       "    .dataframe tbody tr th:only-of-type {\n",
       "        vertical-align: middle;\n",
       "    }\n",
       "\n",
       "    .dataframe tbody tr th {\n",
       "        vertical-align: top;\n",
       "    }\n",
       "\n",
       "    .dataframe thead th {\n",
       "        text-align: right;\n",
       "    }\n",
       "</style>\n",
       "<table border=\"1\" class=\"dataframe\">\n",
       "  <thead>\n",
       "    <tr style=\"text-align: right;\">\n",
       "      <th></th>\n",
       "      <th>0</th>\n",
       "      <th>1</th>\n",
       "      <th>2</th>\n",
       "      <th>3</th>\n",
       "      <th>4</th>\n",
       "      <th>5</th>\n",
       "    </tr>\n",
       "  </thead>\n",
       "  <tbody>\n",
       "    <tr>\n",
       "      <th>0</th>\n",
       "      <td>0.08</td>\n",
       "      <td>0.08</td>\n",
       "      <td>0.10</td>\n",
       "      <td>0.24</td>\n",
       "      <td>0.90</td>\n",
       "      <td>1</td>\n",
       "    </tr>\n",
       "    <tr>\n",
       "      <th>1</th>\n",
       "      <td>0.06</td>\n",
       "      <td>0.06</td>\n",
       "      <td>0.05</td>\n",
       "      <td>0.25</td>\n",
       "      <td>0.33</td>\n",
       "      <td>2</td>\n",
       "    </tr>\n",
       "    <tr>\n",
       "      <th>2</th>\n",
       "      <td>0.10</td>\n",
       "      <td>0.10</td>\n",
       "      <td>0.15</td>\n",
       "      <td>0.65</td>\n",
       "      <td>0.30</td>\n",
       "      <td>3</td>\n",
       "    </tr>\n",
       "    <tr>\n",
       "      <th>3</th>\n",
       "      <td>0.08</td>\n",
       "      <td>0.08</td>\n",
       "      <td>0.08</td>\n",
       "      <td>0.98</td>\n",
       "      <td>0.24</td>\n",
       "      <td>2</td>\n",
       "    </tr>\n",
       "    <tr>\n",
       "      <th>4</th>\n",
       "      <td>0.09</td>\n",
       "      <td>0.15</td>\n",
       "      <td>0.40</td>\n",
       "      <td>0.10</td>\n",
       "      <td>0.66</td>\n",
       "      <td>3</td>\n",
       "    </tr>\n",
       "  </tbody>\n",
       "</table>\n",
       "</div>"
      ],
      "text/plain": [
       "      0     1     2     3     4  5\n",
       "0  0.08  0.08  0.10  0.24  0.90  1\n",
       "1  0.06  0.06  0.05  0.25  0.33  2\n",
       "2  0.10  0.10  0.15  0.65  0.30  3\n",
       "3  0.08  0.08  0.08  0.98  0.24  2\n",
       "4  0.09  0.15  0.40  0.10  0.66  3"
      ]
     },
     "execution_count": 13,
     "metadata": {},
     "output_type": "execute_result"
    }
   ],
   "source": [
    "multi_df = pd.read_csv('Datasets/Multi/Data_User_Modeling_Dataset.csv', header = None)\n",
    "multi_df.head()"
   ]
  },
  {
   "cell_type": "markdown",
   "metadata": {},
   "source": [
    "## MAP"
   ]
  },
  {
   "cell_type": "code",
   "execution_count": 23,
   "metadata": {},
   "outputs": [
    {
     "name": "stdout",
     "output_type": "stream",
     "text": [
      "Averaged accuracy is:  0.9650\n",
      "Class1 accuracy is: 0.9841\n",
      "Class2 accuracy is: 0.9880\n",
      "Class3 accuracy is: 0.9432\n",
      "Class4 accuracy is: 0.9130\n",
      "unweighted accuracy average is:0.9571\n"
     ]
    }
   ],
   "source": [
    "classes = multi_df.iloc[:, -1].unique()\n",
    "cost_matrix = np.ones((len(classes), len(classes))) - np.eye(len(classes))\n",
    "likelihood_p = likelihood(multi_df.iloc[:, :-1], multi_df.iloc[:, -1]) \n",
    "prior_p = prior(multi_df.iloc[:, -1])\n",
    "result = classes[bayes_decision_rule(cost_matrix,likelihood_p,prior_p)]\n",
    "confusion_m1 = confusionBuild(result, multi_df.iloc[:, -1].to_numpy())\n",
    "print(f'Averaged accuracy is: {conf2acc(confusion_m1): .4f}')\n",
    "accuracy = []\n",
    "for i in np.arange(classes.shape[0]):\n",
    "    acc = confusion_m1[i, i] / confusion_m1[i, :].sum()\n",
    "    accuracy.append(acc)\n",
    "    print(f'Class{classes[i]} accuracy is: {acc:.4f}')\n",
    "print(f'unweighted accuracy average is:{sum(accuracy)/len(classes):.4f}')"
   ]
  },
  {
   "cell_type": "markdown",
   "metadata": {},
   "source": [
    "## ML"
   ]
  },
  {
   "cell_type": "code",
   "execution_count": 15,
   "metadata": {},
   "outputs": [
    {
     "name": "stdout",
     "output_type": "stream",
     "text": [
      "Averaged accuracy is:  0.9533\n",
      "Class1 accuracy is: 0.9841\n",
      "Class2 accuracy is: 0.9398\n",
      "Class3 accuracy is: 0.9432\n",
      "Class4 accuracy is: 0.9565\n",
      "unweighted accuracy average is:0.9559\n"
     ]
    }
   ],
   "source": [
    "classes = multi_df.iloc[:, -1].unique()\n",
    "cost_matrix = np.ones((len(classes), len(classes))) - np.eye(len(classes))\n",
    "likelihood_p = likelihood(multi_df.iloc[:, :-1], multi_df.iloc[:, -1]) \n",
    "prior_p = np.ones_like(classes) / len(classes)\n",
    "result = classes[bayes_decision_rule(cost_matrix,likelihood_p,prior_p)]\n",
    "confusion_m2 = confusionBuild(result, multi_df.iloc[:, -1].to_numpy())\n",
    "print(f'Averaged accuracy is: {conf2acc(confusion_m2): .4f}')\n",
    "accuracy = []\n",
    "for i in np.arange(classes.shape[0]):\n",
    "    acc = confusion_m2[i, i] / confusion_m2[i, :].sum()\n",
    "    print(f'Class{classes[i]} accuracy is: {acc:.4f}')\n",
    "    accuracy.append(acc)\n",
    "print(f'unweighted accuracy average is:{sum(accuracy)/len(classes):.4f}')    \n"
   ]
  },
  {
   "cell_type": "markdown",
   "metadata": {},
   "source": [
    "## c)\n",
    "\n",
    "unlike last time, our data have a better representation of real world. so MAP results better than ML and we can also see MAP superiority in:</br>\n",
    "average accuracy > unweighted average accuracy"
   ]
  },
  {
   "cell_type": "code",
   "execution_count": 16,
   "metadata": {},
   "outputs": [
    {
     "data": {
      "image/png": "[encoded data removed]",
      "text/plain": [
       "<Figure size 1152x432 with 2 Axes>"
      ]
     },
     "metadata": {
      "needs_background": "light"
     },
     "output_type": "display_data"
    }
   ],
   "source": [
    "import matplotlib.pyplot as plt\n",
    "\n",
    "# accuracy mat:\n",
    "# [[acc_class1_map, acc_class1_ml],\n",
    "#  [acc_class2_map, acc_class2_ml]\n",
    "#   ...]\n",
    "acc = np.zeros((len(classes), 2), 'float')\n",
    "for j in range(2):\n",
    "    temp = eval(f'confusion_m{j+1}')\n",
    "    for i in range(classes.size):\n",
    "        acc[i, j] = temp[i, i] / temp[i, :].sum()\n",
    "\n",
    "\n",
    "ave_acc = np.zeros((1, 2), 'float')\n",
    "for j in range(2):\n",
    "    temp = eval(f'confusion_m{j+1}')\n",
    "    ave_acc[0, j] = conf2acc(temp)\n",
    "\n",
    "x = ['MAP', 'ML']\n",
    "plt.figure(figsize=(16, 6))\n",
    "plt.subplot(121)\n",
    "for i in range(classes.size):\n",
    "    plt.bar(x, acc[i, :], bottom = acc[:i, :].sum(0), label = f'class {i}')\n",
    "plt.ylabel('accuracy')\n",
    "plt.legend()\n",
    "plt.title('stacked accuracy')\n",
    "\n",
    "plt.subplot(122)\n",
    "\n",
    "for i in range(classes.size):\n",
    "    plt.bar(x, ave_acc[0, :] * acc[i, :]/acc.sum(0), bottom=(ave_acc[0, :] * acc[:i, :]/acc.sum(0)).sum(0), label = f'class {i}')\n",
    "plt.xlabel('models')\n",
    "plt.ylabel('accuracy')\n",
    "plt.legend()\n",
    "plt.title('accuracy')\n",
    "\n",
    "plt.show()"
   ]
  },
  {
   "cell_type": "markdown",
   "metadata": {},
   "source": [
    "# Exercise 4"
   ]
  },
  {
   "cell_type": "markdown",
   "metadata": {},
   "source": [
    "## a)"
   ]
  },
  {
   "cell_type": "markdown",
   "metadata": {},
   "source": [
    "### for exercise 2"
   ]
  },
  {
   "cell_type": "code",
   "execution_count": 17,
   "metadata": {},
   "outputs": [
    {
     "data": {
      "text/plain": [
       "62938.31512229396"
      ]
     },
     "execution_count": 17,
     "metadata": {},
     "output_type": "execute_result"
    }
   ],
   "source": [
    "x = haberman_df.iloc[:, :-1].to_numpy()\n",
    "cov = np.cov(x.T)\n",
    "np.linalg.det(cov)"
   ]
  },
  {
   "cell_type": "markdown",
   "metadata": {},
   "source": [
    "|cov| >> 0 --> x is not singular "
   ]
  },
  {
   "cell_type": "markdown",
   "metadata": {},
   "source": [
    "### for exercise 3"
   ]
  },
  {
   "cell_type": "code",
   "execution_count": 18,
   "metadata": {},
   "outputs": [
    {
     "data": {
      "text/plain": [
       "3.7136856502254336e-07"
      ]
     },
     "execution_count": 18,
     "metadata": {},
     "output_type": "execute_result"
    }
   ],
   "source": [
    "x = multi_df.iloc[:, :-1].to_numpy()\n",
    "cov = np.cov(x.T)\n",
    "np.linalg.det(cov)"
   ]
  },
  {
   "cell_type": "markdown",
   "metadata": {},
   "source": [
    "|cov| ~= 0 --> it can be singular but we have to check one more thing: "
   ]
  },
  {
   "cell_type": "code",
   "execution_count": 19,
   "metadata": {},
   "outputs": [
    {
     "data": {
      "text/plain": [
       "37136856502254.305"
      ]
     },
     "execution_count": 19,
     "metadata": {},
     "output_type": "execute_result"
    }
   ],
   "source": [
    "x = multi_df.iloc[:, :-1].to_numpy()\n",
    "cov = np.cov(100 * x.T)\n",
    "np.linalg.det(cov)"
   ]
  },
  {
   "cell_type": "markdown",
   "metadata": {},
   "source": [
    "--> the <big><b>covariance is not singular</b></big>. but we have to calculate with high precisions. or we can multiply all the columns in a big number like 100 in this example."
   ]
  },
  {
   "cell_type": "markdown",
   "metadata": {},
   "source": [
    "## b)\n",
    "The problem is that one or more features are linearly dependent."
   ]
  },
  {
   "cell_type": "markdown",
   "metadata": {},
   "source": [
    "## c)\n",
    "1- finding dependent features and removing one from table. 2- Or we can add some non-linearity to one of the features and keep them as a new variable."
   ]
  },
  {
   "cell_type": "markdown",
   "metadata": {},
   "source": [
    "## [optional]"
   ]
  },
  {
   "cell_type": "markdown",
   "metadata": {},
   "source": [
    "lets say they are dependent:"
   ]
  },
  {
   "cell_type": "code",
   "execution_count": 20,
   "metadata": {},
   "outputs": [
    {
     "data": {
      "text/plain": [
       "8.78761468034263e-06"
      ]
     },
     "execution_count": 20,
     "metadata": {},
     "output_type": "execute_result"
    }
   ],
   "source": [
    "classes = multi_df.iloc[:, -1].unique()\n",
    "y = multi_df.iloc[:, -1].to_numpy()\n",
    "columns = []\n",
    "for j in np.arange(classes.size):\n",
    "    for i in np.arange(j+1, classes.size):\n",
    "        cov = np.cov(x[:, [i, j]].T)\n",
    "        if np.linalg.det(cov) < 0.002:\n",
    "            columns.append(i)\n",
    "\n",
    "\n",
    "new_multi_df = multi_df.drop(columns=columns)\n",
    "x = new_multi_df.iloc[:, :-1].to_numpy()\n",
    "\n",
    "cov = np.cov(x.T)\n",
    "np.linalg.det(cov)\n"
   ]
  },
  {
   "cell_type": "markdown",
   "metadata": {},
   "source": [
    "### MAP"
   ]
  },
  {
   "cell_type": "code",
   "execution_count": 21,
   "metadata": {},
   "outputs": [
    {
     "name": "stdout",
     "output_type": "stream",
     "text": [
      "Averaged accuracy is:  0.9572\n",
      "Class1 accuracy is: 0.9841\n",
      "Class2 accuracy is: 0.9759\n",
      "Class3 accuracy is: 0.9318\n",
      "Class4 accuracy is: 0.9130\n",
      "unweighted accuracy average is:0.9512\n"
     ]
    }
   ],
   "source": [
    "classes = new_multi_df.iloc[:, -1].unique()\n",
    "cost_matrix = np.ones((len(classes), len(classes))) - np.eye(len(classes))\n",
    "likelihood_p = likelihood(new_multi_df.iloc[:, :-1], new_multi_df.iloc[:, -1]) \n",
    "prior_p = prior(new_multi_df.iloc[:, -1])\n",
    "result = classes[bayes_decision_rule(cost_matrix,likelihood_p,prior_p)]\n",
    "confusion_m1 = confusionBuild(result, new_multi_df.iloc[:, -1].to_numpy())\n",
    "print(f'Averaged accuracy is: {conf2acc(confusion_m1): .4f}')\n",
    "accuracy = []\n",
    "for i in np.arange(classes.shape[0]):\n",
    "    acc = confusion_m1[i, i] / confusion_m1[i, :].sum()\n",
    "    accuracy.append(acc)\n",
    "    print(f'Class{classes[i]} accuracy is: {acc:.4f}')\n",
    "print(f'unweighted accuracy average is:{sum(accuracy)/len(classes):.4f}')\n"
   ]
  },
  {
   "cell_type": "markdown",
   "metadata": {},
   "source": [
    "### ML"
   ]
  },
  {
   "cell_type": "code",
   "execution_count": 22,
   "metadata": {},
   "outputs": [
    {
     "name": "stdout",
     "output_type": "stream",
     "text": [
      "Averaged accuracy is:  0.9416\n",
      "Class1 accuracy is: 0.9841\n",
      "Class2 accuracy is: 0.9277\n",
      "Class3 accuracy is: 0.9318\n",
      "Class4 accuracy is: 0.9130\n",
      "unweighted accuracy average is:0.9392\n"
     ]
    }
   ],
   "source": [
    "classes = new_multi_df.iloc[:, -1].unique()\n",
    "cost_matrix = np.ones((len(classes), len(classes))) - np.eye(len(classes))\n",
    "likelihood_p = likelihood(new_multi_df.iloc[:, :-1], new_multi_df.iloc[:, -1]) \n",
    "prior_p = np.ones_like(classes) / len(classes)\n",
    "result = classes[bayes_decision_rule(cost_matrix,likelihood_p,prior_p)]\n",
    "confusion_m2 = confusionBuild(result, new_multi_df.iloc[:, -1].to_numpy())\n",
    "print(f'Averaged accuracy is: {conf2acc(confusion_m2): .4f}')\n",
    "accuracy = []\n",
    "for i in np.arange(classes.shape[0]):\n",
    "    acc = confusion_m2[i, i] / confusion_m2[i, :].sum()\n",
    "    print(f'Class{classes[i]} accuracy is: {acc:.4f}')\n",
    "    accuracy.append(acc)\n",
    "print(f'unweighted accuracy average is:{sum(accuracy)/len(classes):.4f}')    "
   ]
  }
 ],
 "metadata": {
  "kernelspec": {
   "display_name": "Python 3",
   "language": "python",
   "name": "python3"
  },
  "language_info": {
   "codemirror_mode": {
    "name": "ipython",
    "version": 3
   },
   "file_extension": ".py",
   "mimetype": "text/x-python",
   "name": "python",
   "nbconvert_exporter": "python",
   "pygments_lexer": "ipython3",
   "version": "3.9.12"
  }
 },
 "nbformat": 4,
 "nbformat_minor": 2
}
